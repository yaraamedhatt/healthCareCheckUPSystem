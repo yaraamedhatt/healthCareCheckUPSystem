{
  "cells": [
    {
      "cell_type": "code",
      "execution_count": 1,
      "id": "d968b9b3",
      "metadata": {
        "id": "d968b9b3"
      },
      "outputs": [],
      "source": [
        "import pandas as pd\n",
        "import numpy as np\n",
        "import seaborn as sns\n",
        "from sklearn.preprocessing import LabelEncoder\n",
        "import sklearn.metrics\n",
        "from sklearn import tree\n",
        "from sklearn.metrics import classification_report, accuracy_score\n",
        "from sklearn import svm\n",
        "from sklearn.pipeline import Pipeline\n",
        "from sklearn.preprocessing import MinMaxScaler\n",
        "from sklearn.cluster import KMeans\n",
        "from sklearn.linear_model import LogisticRegression\n",
        "from sklearn.model_selection import train_test_split\n",
        "from sklearn.neighbors import KNeighborsClassifier\n",
        "import tensorflow as tf\n",
        "from tensorflow import keras\n",
        "from keras.api._v2.keras import activations\n",
        "from sklearn.preprocessing import StandardScaler"
      ]
    },
    {
      "cell_type": "code",
      "execution_count": 4,
      "id": "cd37e40f",
      "metadata": {
        "id": "cd37e40f"
      },
      "outputs": [],
      "source": [
        "kidney_df=pd.read_csv('chronickidney_disease.csv')\n"
      ]
    },
    {
      "cell_type": "code",
      "execution_count": 5,
      "id": "c26e1bb9",
      "metadata": {
        "id": "c26e1bb9"
      },
      "outputs": [],
      "source": [
        "d=kidney_df.duplicated().sum()"
      ]
    },
    {
      "cell_type": "code",
      "execution_count": 6,
      "id": "1ac6faa2",
      "metadata": {
        "id": "1ac6faa2"
      },
      "outputs": [],
      "source": [
        "n=kidney_df.isnull().sum()"
      ]
    },
    {
      "cell_type": "code",
      "execution_count": 7,
      "id": "43762573",
      "metadata": {
        "id": "43762573"
      },
      "outputs": [],
      "source": [
        "kidney_df=kidney_df.drop(['id'], axis=1)"
      ]
    },
    {
      "cell_type": "code",
      "execution_count": 8,
      "id": "c99696d7",
      "metadata": {
        "id": "c99696d7"
      },
      "outputs": [],
      "source": [
        "encode = LabelEncoder()\n",
        "for col in kidney_df.columns:\n",
        "    if kidney_df[col].dtype == 'O':  # convert string columns to be able to apply feature selection & models\n",
        "        kidney_df[col] = encode.fit_transform(kidney_df[col])\n",
        "    #kidney_df[col].fillna(kidney_df[col].mode()[0], inplace=True)"
      ]
    },
    {
      "cell_type": "code",
      "execution_count": 9,
      "id": "dbc584ab",
      "metadata": {
        "id": "dbc584ab"
      },
      "outputs": [],
      "source": [
        "kidney_df = kidney_df.fillna(method='bfill')"
      ]
    },
    {
      "cell_type": "code",
      "execution_count": 10,
      "id": "a226b875",
      "metadata": {
        "colab": {
          "base_uri": "https://localhost:8080/",
          "height": 423
        },
        "id": "a226b875",
        "outputId": "10478ac9-6941-4ab6-c73c-2ecce69d62f8"
      },
      "outputs": [
        {
          "output_type": "execute_result",
          "data": {
            "text/plain": [
              "      age    bp     sg   al   su  rbc  pc  pcc  ba    bgr  ...  pcv  wc  rc  \\\n",
              "0    48.0  80.0  1.020  1.0  0.0    2   1    0   0  121.0  ...   32  72  34   \n",
              "1     7.0  50.0  1.020  4.0  0.0    2   1    0   0  423.0  ...   26  56  49   \n",
              "2    62.0  80.0  1.010  2.0  3.0    1   1    0   0  423.0  ...   19  70  49   \n",
              "3    48.0  70.0  1.005  4.0  0.0    1   0    1   0  117.0  ...   20  62  19   \n",
              "4    51.0  80.0  1.010  2.0  0.0    1   1    0   0  106.0  ...   23  68  27   \n",
              "..    ...   ...    ...  ...  ...  ...  ..  ...  ..    ...  ...  ...  ..  ..   \n",
              "395  55.0  80.0  1.020  0.0  0.0    1   1    0   0  140.0  ...   35  62  30   \n",
              "396  42.0  70.0  1.025  0.0  0.0    1   1    0   0   75.0  ...   42  72  44   \n",
              "397  12.0  80.0  1.020  0.0  0.0    1   1    0   0  100.0  ...   37  61  36   \n",
              "398  17.0  60.0  1.025  0.0  0.0    1   1    0   0  114.0  ...   39  67  41   \n",
              "399  58.0  80.0  1.025  0.0  0.0    1   1    0   0  131.0  ...   41  63  43   \n",
              "\n",
              "     htn  dm  cad  appet  pe  ane  classification  \n",
              "0      1   4    1      0   0    0               0  \n",
              "1      0   3    1      0   0    0               0  \n",
              "2      0   4    1      1   0    1               0  \n",
              "3      1   3    1      1   1    1               0  \n",
              "4      0   3    1      0   0    0               0  \n",
              "..   ...  ..  ...    ...  ..  ...             ...  \n",
              "395    0   3    1      0   0    0               2  \n",
              "396    0   3    1      0   0    0               2  \n",
              "397    0   3    1      0   0    0               2  \n",
              "398    0   3    1      0   0    0               2  \n",
              "399    0   3    1      0   0    0               2  \n",
              "\n",
              "[400 rows x 25 columns]"
            ],
            "text/html": [
              "\n",
              "  <div id=\"df-e0ca58c7-623e-4574-9633-e11f803a111d\">\n",
              "    <div class=\"colab-df-container\">\n",
              "      <div>\n",
              "<style scoped>\n",
              "    .dataframe tbody tr th:only-of-type {\n",
              "        vertical-align: middle;\n",
              "    }\n",
              "\n",
              "    .dataframe tbody tr th {\n",
              "        vertical-align: top;\n",
              "    }\n",
              "\n",
              "    .dataframe thead th {\n",
              "        text-align: right;\n",
              "    }\n",
              "</style>\n",
              "<table border=\"1\" class=\"dataframe\">\n",
              "  <thead>\n",
              "    <tr style=\"text-align: right;\">\n",
              "      <th></th>\n",
              "      <th>age</th>\n",
              "      <th>bp</th>\n",
              "      <th>sg</th>\n",
              "      <th>al</th>\n",
              "      <th>su</th>\n",
              "      <th>rbc</th>\n",
              "      <th>pc</th>\n",
              "      <th>pcc</th>\n",
              "      <th>ba</th>\n",
              "      <th>bgr</th>\n",
              "      <th>...</th>\n",
              "      <th>pcv</th>\n",
              "      <th>wc</th>\n",
              "      <th>rc</th>\n",
              "      <th>htn</th>\n",
              "      <th>dm</th>\n",
              "      <th>cad</th>\n",
              "      <th>appet</th>\n",
              "      <th>pe</th>\n",
              "      <th>ane</th>\n",
              "      <th>classification</th>\n",
              "    </tr>\n",
              "  </thead>\n",
              "  <tbody>\n",
              "    <tr>\n",
              "      <th>0</th>\n",
              "      <td>48.0</td>\n",
              "      <td>80.0</td>\n",
              "      <td>1.020</td>\n",
              "      <td>1.0</td>\n",
              "      <td>0.0</td>\n",
              "      <td>2</td>\n",
              "      <td>1</td>\n",
              "      <td>0</td>\n",
              "      <td>0</td>\n",
              "      <td>121.0</td>\n",
              "      <td>...</td>\n",
              "      <td>32</td>\n",
              "      <td>72</td>\n",
              "      <td>34</td>\n",
              "      <td>1</td>\n",
              "      <td>4</td>\n",
              "      <td>1</td>\n",
              "      <td>0</td>\n",
              "      <td>0</td>\n",
              "      <td>0</td>\n",
              "      <td>0</td>\n",
              "    </tr>\n",
              "    <tr>\n",
              "      <th>1</th>\n",
              "      <td>7.0</td>\n",
              "      <td>50.0</td>\n",
              "      <td>1.020</td>\n",
              "      <td>4.0</td>\n",
              "      <td>0.0</td>\n",
              "      <td>2</td>\n",
              "      <td>1</td>\n",
              "      <td>0</td>\n",
              "      <td>0</td>\n",
              "      <td>423.0</td>\n",
              "      <td>...</td>\n",
              "      <td>26</td>\n",
              "      <td>56</td>\n",
              "      <td>49</td>\n",
              "      <td>0</td>\n",
              "      <td>3</td>\n",
              "      <td>1</td>\n",
              "      <td>0</td>\n",
              "      <td>0</td>\n",
              "      <td>0</td>\n",
              "      <td>0</td>\n",
              "    </tr>\n",
              "    <tr>\n",
              "      <th>2</th>\n",
              "      <td>62.0</td>\n",
              "      <td>80.0</td>\n",
              "      <td>1.010</td>\n",
              "      <td>2.0</td>\n",
              "      <td>3.0</td>\n",
              "      <td>1</td>\n",
              "      <td>1</td>\n",
              "      <td>0</td>\n",
              "      <td>0</td>\n",
              "      <td>423.0</td>\n",
              "      <td>...</td>\n",
              "      <td>19</td>\n",
              "      <td>70</td>\n",
              "      <td>49</td>\n",
              "      <td>0</td>\n",
              "      <td>4</td>\n",
              "      <td>1</td>\n",
              "      <td>1</td>\n",
              "      <td>0</td>\n",
              "      <td>1</td>\n",
              "      <td>0</td>\n",
              "    </tr>\n",
              "    <tr>\n",
              "      <th>3</th>\n",
              "      <td>48.0</td>\n",
              "      <td>70.0</td>\n",
              "      <td>1.005</td>\n",
              "      <td>4.0</td>\n",
              "      <td>0.0</td>\n",
              "      <td>1</td>\n",
              "      <td>0</td>\n",
              "      <td>1</td>\n",
              "      <td>0</td>\n",
              "      <td>117.0</td>\n",
              "      <td>...</td>\n",
              "      <td>20</td>\n",
              "      <td>62</td>\n",
              "      <td>19</td>\n",
              "      <td>1</td>\n",
              "      <td>3</td>\n",
              "      <td>1</td>\n",
              "      <td>1</td>\n",
              "      <td>1</td>\n",
              "      <td>1</td>\n",
              "      <td>0</td>\n",
              "    </tr>\n",
              "    <tr>\n",
              "      <th>4</th>\n",
              "      <td>51.0</td>\n",
              "      <td>80.0</td>\n",
              "      <td>1.010</td>\n",
              "      <td>2.0</td>\n",
              "      <td>0.0</td>\n",
              "      <td>1</td>\n",
              "      <td>1</td>\n",
              "      <td>0</td>\n",
              "      <td>0</td>\n",
              "      <td>106.0</td>\n",
              "      <td>...</td>\n",
              "      <td>23</td>\n",
              "      <td>68</td>\n",
              "      <td>27</td>\n",
              "      <td>0</td>\n",
              "      <td>3</td>\n",
              "      <td>1</td>\n",
              "      <td>0</td>\n",
              "      <td>0</td>\n",
              "      <td>0</td>\n",
              "      <td>0</td>\n",
              "    </tr>\n",
              "    <tr>\n",
              "      <th>...</th>\n",
              "      <td>...</td>\n",
              "      <td>...</td>\n",
              "      <td>...</td>\n",
              "      <td>...</td>\n",
              "      <td>...</td>\n",
              "      <td>...</td>\n",
              "      <td>...</td>\n",
              "      <td>...</td>\n",
              "      <td>...</td>\n",
              "      <td>...</td>\n",
              "      <td>...</td>\n",
              "      <td>...</td>\n",
              "      <td>...</td>\n",
              "      <td>...</td>\n",
              "      <td>...</td>\n",
              "      <td>...</td>\n",
              "      <td>...</td>\n",
              "      <td>...</td>\n",
              "      <td>...</td>\n",
              "      <td>...</td>\n",
              "      <td>...</td>\n",
              "    </tr>\n",
              "    <tr>\n",
              "      <th>395</th>\n",
              "      <td>55.0</td>\n",
              "      <td>80.0</td>\n",
              "      <td>1.020</td>\n",
              "      <td>0.0</td>\n",
              "      <td>0.0</td>\n",
              "      <td>1</td>\n",
              "      <td>1</td>\n",
              "      <td>0</td>\n",
              "      <td>0</td>\n",
              "      <td>140.0</td>\n",
              "      <td>...</td>\n",
              "      <td>35</td>\n",
              "      <td>62</td>\n",
              "      <td>30</td>\n",
              "      <td>0</td>\n",
              "      <td>3</td>\n",
              "      <td>1</td>\n",
              "      <td>0</td>\n",
              "      <td>0</td>\n",
              "      <td>0</td>\n",
              "      <td>2</td>\n",
              "    </tr>\n",
              "    <tr>\n",
              "      <th>396</th>\n",
              "      <td>42.0</td>\n",
              "      <td>70.0</td>\n",
              "      <td>1.025</td>\n",
              "      <td>0.0</td>\n",
              "      <td>0.0</td>\n",
              "      <td>1</td>\n",
              "      <td>1</td>\n",
              "      <td>0</td>\n",
              "      <td>0</td>\n",
              "      <td>75.0</td>\n",
              "      <td>...</td>\n",
              "      <td>42</td>\n",
              "      <td>72</td>\n",
              "      <td>44</td>\n",
              "      <td>0</td>\n",
              "      <td>3</td>\n",
              "      <td>1</td>\n",
              "      <td>0</td>\n",
              "      <td>0</td>\n",
              "      <td>0</td>\n",
              "      <td>2</td>\n",
              "    </tr>\n",
              "    <tr>\n",
              "      <th>397</th>\n",
              "      <td>12.0</td>\n",
              "      <td>80.0</td>\n",
              "      <td>1.020</td>\n",
              "      <td>0.0</td>\n",
              "      <td>0.0</td>\n",
              "      <td>1</td>\n",
              "      <td>1</td>\n",
              "      <td>0</td>\n",
              "      <td>0</td>\n",
              "      <td>100.0</td>\n",
              "      <td>...</td>\n",
              "      <td>37</td>\n",
              "      <td>61</td>\n",
              "      <td>36</td>\n",
              "      <td>0</td>\n",
              "      <td>3</td>\n",
              "      <td>1</td>\n",
              "      <td>0</td>\n",
              "      <td>0</td>\n",
              "      <td>0</td>\n",
              "      <td>2</td>\n",
              "    </tr>\n",
              "    <tr>\n",
              "      <th>398</th>\n",
              "      <td>17.0</td>\n",
              "      <td>60.0</td>\n",
              "      <td>1.025</td>\n",
              "      <td>0.0</td>\n",
              "      <td>0.0</td>\n",
              "      <td>1</td>\n",
              "      <td>1</td>\n",
              "      <td>0</td>\n",
              "      <td>0</td>\n",
              "      <td>114.0</td>\n",
              "      <td>...</td>\n",
              "      <td>39</td>\n",
              "      <td>67</td>\n",
              "      <td>41</td>\n",
              "      <td>0</td>\n",
              "      <td>3</td>\n",
              "      <td>1</td>\n",
              "      <td>0</td>\n",
              "      <td>0</td>\n",
              "      <td>0</td>\n",
              "      <td>2</td>\n",
              "    </tr>\n",
              "    <tr>\n",
              "      <th>399</th>\n",
              "      <td>58.0</td>\n",
              "      <td>80.0</td>\n",
              "      <td>1.025</td>\n",
              "      <td>0.0</td>\n",
              "      <td>0.0</td>\n",
              "      <td>1</td>\n",
              "      <td>1</td>\n",
              "      <td>0</td>\n",
              "      <td>0</td>\n",
              "      <td>131.0</td>\n",
              "      <td>...</td>\n",
              "      <td>41</td>\n",
              "      <td>63</td>\n",
              "      <td>43</td>\n",
              "      <td>0</td>\n",
              "      <td>3</td>\n",
              "      <td>1</td>\n",
              "      <td>0</td>\n",
              "      <td>0</td>\n",
              "      <td>0</td>\n",
              "      <td>2</td>\n",
              "    </tr>\n",
              "  </tbody>\n",
              "</table>\n",
              "<p>400 rows × 25 columns</p>\n",
              "</div>\n",
              "      <button class=\"colab-df-convert\" onclick=\"convertToInteractive('df-e0ca58c7-623e-4574-9633-e11f803a111d')\"\n",
              "              title=\"Convert this dataframe to an interactive table.\"\n",
              "              style=\"display:none;\">\n",
              "        \n",
              "  <svg xmlns=\"http://www.w3.org/2000/svg\" height=\"24px\"viewBox=\"0 0 24 24\"\n",
              "       width=\"24px\">\n",
              "    <path d=\"M0 0h24v24H0V0z\" fill=\"none\"/>\n",
              "    <path d=\"M18.56 5.44l.94 2.06.94-2.06 2.06-.94-2.06-.94-.94-2.06-.94 2.06-2.06.94zm-11 1L8.5 8.5l.94-2.06 2.06-.94-2.06-.94L8.5 2.5l-.94 2.06-2.06.94zm10 10l.94 2.06.94-2.06 2.06-.94-2.06-.94-.94-2.06-.94 2.06-2.06.94z\"/><path d=\"M17.41 7.96l-1.37-1.37c-.4-.4-.92-.59-1.43-.59-.52 0-1.04.2-1.43.59L10.3 9.45l-7.72 7.72c-.78.78-.78 2.05 0 2.83L4 21.41c.39.39.9.59 1.41.59.51 0 1.02-.2 1.41-.59l7.78-7.78 2.81-2.81c.8-.78.8-2.07 0-2.86zM5.41 20L4 18.59l7.72-7.72 1.47 1.35L5.41 20z\"/>\n",
              "  </svg>\n",
              "      </button>\n",
              "      \n",
              "  <style>\n",
              "    .colab-df-container {\n",
              "      display:flex;\n",
              "      flex-wrap:wrap;\n",
              "      gap: 12px;\n",
              "    }\n",
              "\n",
              "    .colab-df-convert {\n",
              "      background-color: #E8F0FE;\n",
              "      border: none;\n",
              "      border-radius: 50%;\n",
              "      cursor: pointer;\n",
              "      display: none;\n",
              "      fill: #1967D2;\n",
              "      height: 32px;\n",
              "      padding: 0 0 0 0;\n",
              "      width: 32px;\n",
              "    }\n",
              "\n",
              "    .colab-df-convert:hover {\n",
              "      background-color: #E2EBFA;\n",
              "      box-shadow: 0px 1px 2px rgba(60, 64, 67, 0.3), 0px 1px 3px 1px rgba(60, 64, 67, 0.15);\n",
              "      fill: #174EA6;\n",
              "    }\n",
              "\n",
              "    [theme=dark] .colab-df-convert {\n",
              "      background-color: #3B4455;\n",
              "      fill: #D2E3FC;\n",
              "    }\n",
              "\n",
              "    [theme=dark] .colab-df-convert:hover {\n",
              "      background-color: #434B5C;\n",
              "      box-shadow: 0px 1px 3px 1px rgba(0, 0, 0, 0.15);\n",
              "      filter: drop-shadow(0px 1px 2px rgba(0, 0, 0, 0.3));\n",
              "      fill: #FFFFFF;\n",
              "    }\n",
              "  </style>\n",
              "\n",
              "      <script>\n",
              "        const buttonEl =\n",
              "          document.querySelector('#df-e0ca58c7-623e-4574-9633-e11f803a111d button.colab-df-convert');\n",
              "        buttonEl.style.display =\n",
              "          google.colab.kernel.accessAllowed ? 'block' : 'none';\n",
              "\n",
              "        async function convertToInteractive(key) {\n",
              "          const element = document.querySelector('#df-e0ca58c7-623e-4574-9633-e11f803a111d');\n",
              "          const dataTable =\n",
              "            await google.colab.kernel.invokeFunction('convertToInteractive',\n",
              "                                                     [key], {});\n",
              "          if (!dataTable) return;\n",
              "\n",
              "          const docLinkHtml = 'Like what you see? Visit the ' +\n",
              "            '<a target=\"_blank\" href=https://colab.research.google.com/notebooks/data_table.ipynb>data table notebook</a>'\n",
              "            + ' to learn more about interactive tables.';\n",
              "          element.innerHTML = '';\n",
              "          dataTable['output_type'] = 'display_data';\n",
              "          await google.colab.output.renderOutput(dataTable, element);\n",
              "          const docLink = document.createElement('div');\n",
              "          docLink.innerHTML = docLinkHtml;\n",
              "          element.appendChild(docLink);\n",
              "        }\n",
              "      </script>\n",
              "    </div>\n",
              "  </div>\n",
              "  "
            ]
          },
          "metadata": {},
          "execution_count": 10
        }
      ],
      "source": [
        "kidney_df"
      ]
    },
    {
      "cell_type": "code",
      "execution_count": 11,
      "id": "118b4279",
      "metadata": {
        "id": "118b4279"
      },
      "outputs": [],
      "source": [
        "kidney_df.to_csv('updated_kideny.csv', index=False)"
      ]
    },
    {
      "cell_type": "code",
      "execution_count": 12,
      "id": "506aee78",
      "metadata": {
        "id": "506aee78"
      },
      "outputs": [],
      "source": [
        "X = kidney_df.loc[:, kidney_df.columns != col]\n",
        "Y = kidney_df['classification']\n",
        "X_train, X_test, Y_train, Y_test = train_test_split(X, Y, test_size=0.2, random_state=1,shuffle=True)"
      ]
    },
    {
      "cell_type": "code",
      "source": [
        "X_train.shape\n"
      ],
      "metadata": {
        "colab": {
          "base_uri": "https://localhost:8080/"
        },
        "id": "6Yg0Y7RPd9wr",
        "outputId": "1e585aad-f4e2-47c4-8b50-20a828e8e072"
      },
      "id": "6Yg0Y7RPd9wr",
      "execution_count": 13,
      "outputs": [
        {
          "output_type": "execute_result",
          "data": {
            "text/plain": [
              "(320, 24)"
            ]
          },
          "metadata": {},
          "execution_count": 13
        }
      ]
    },
    {
      "cell_type": "code",
      "source": [
        "X.shape\n"
      ],
      "metadata": {
        "colab": {
          "base_uri": "https://localhost:8080/"
        },
        "id": "MWeRyyGSRbW-",
        "outputId": "e071bf42-82f0-4a1f-95d8-8f0503c41e5f"
      },
      "id": "MWeRyyGSRbW-",
      "execution_count": 14,
      "outputs": [
        {
          "output_type": "execute_result",
          "data": {
            "text/plain": [
              "(400, 24)"
            ]
          },
          "metadata": {},
          "execution_count": 14
        }
      ]
    },
    {
      "cell_type": "code",
      "source": [
        "scaler = StandardScaler()\n",
        "X_train = scaler.fit_transform(X_train)\n",
        "X_test = scaler.transform(X_test)"
      ],
      "metadata": {
        "id": "zjLFk4Ft8Yo9"
      },
      "id": "zjLFk4Ft8Yo9",
      "execution_count": 15,
      "outputs": []
    },
    {
      "cell_type": "code",
      "execution_count": 16,
      "id": "f8c95cf7",
      "metadata": {
        "colab": {
          "base_uri": "https://localhost:8080/"
        },
        "id": "f8c95cf7",
        "outputId": "64ca8205-03ce-49a5-92b2-3c23ce5487ad"
      },
      "outputs": [
        {
          "output_type": "execute_result",
          "data": {
            "text/plain": [
              "array([2, 0, 2, 2, 0, 2, 0, 2, 0, 2, 0, 2, 0, 2, 2, 0, 2, 0, 0, 0, 0, 0,\n",
              "       2, 0, 0, 0, 2, 0, 2, 0, 0, 0, 0, 2, 0, 0, 0, 0, 2, 0, 2, 0, 0, 0,\n",
              "       2, 0, 2, 2, 2, 2, 0, 0, 0, 0, 2, 2, 2, 0, 2, 2, 0, 0, 0, 0, 2, 0,\n",
              "       0, 2, 2, 2, 0, 0, 2, 2, 0, 2, 0, 0, 0, 0])"
            ]
          },
          "metadata": {},
          "execution_count": 16
        }
      ],
      "source": [
        "svm_clf =svm.SVC(kernel='rbf',gamma='auto',C=2)\n",
        "svm_clf.fit(X_train, Y_train)\n",
        "PREDICTION=svm_clf.predict(X_test)\n",
        "PREDICTION"
      ]
    },
    {
      "cell_type": "code",
      "execution_count": 17,
      "id": "360a6804",
      "metadata": {
        "colab": {
          "base_uri": "https://localhost:8080/"
        },
        "id": "360a6804",
        "outputId": "dabf1438-6eb5-4d0c-d489-3ed38481bda6"
      },
      "outputs": [
        {
          "output_type": "execute_result",
          "data": {
            "text/plain": [
              "1.0"
            ]
          },
          "metadata": {},
          "execution_count": 17
        }
      ],
      "source": [
        "r=sklearn.metrics.confusion_matrix(Y_test, PREDICTION)\n",
        "r=np.flip(r)\n",
        "acc1=(r[0][0]+r[-1][-1])/np.sum(r)\n",
        "acc1"
      ]
    },
    {
      "cell_type": "code",
      "execution_count": 18,
      "id": "5e28769c",
      "metadata": {
        "colab": {
          "base_uri": "https://localhost:8080/"
        },
        "id": "5e28769c",
        "outputId": "3eba156f-7c29-49fa-ad1a-56539e4b3dd0"
      },
      "outputs": [
        {
          "output_type": "execute_result",
          "data": {
            "text/plain": [
              "0.9875"
            ]
          },
          "metadata": {},
          "execution_count": 18
        }
      ],
      "source": [
        "logistic_clf = LogisticRegression()\n",
        "logistic_clf.fit(X_train, Y_train)\n",
        "y_pred = logistic_clf.predict(X_test)\n",
        "acc2= accuracy_score(Y_test, y_pred)\n",
        "acc2"
      ]
    },
    {
      "cell_type": "code",
      "source": [
        "y_pred"
      ],
      "metadata": {
        "colab": {
          "base_uri": "https://localhost:8080/"
        },
        "id": "7pcKSOM-PmyU",
        "outputId": "7d965a0e-d47d-4df5-ca2b-7672cce623e5"
      },
      "id": "7pcKSOM-PmyU",
      "execution_count": 19,
      "outputs": [
        {
          "output_type": "execute_result",
          "data": {
            "text/plain": [
              "array([2, 0, 2, 2, 0, 2, 0, 2, 0, 2, 0, 2, 0, 2, 2, 0, 2, 0, 0, 0, 0, 0,\n",
              "       2, 0, 0, 0, 2, 0, 2, 0, 0, 0, 0, 2, 0, 0, 0, 0, 2, 0, 2, 0, 0, 0,\n",
              "       2, 0, 2, 2, 2, 2, 0, 0, 0, 0, 2, 2, 2, 2, 2, 2, 0, 0, 0, 0, 2, 0,\n",
              "       0, 2, 2, 2, 0, 0, 2, 2, 0, 2, 0, 0, 0, 0])"
            ]
          },
          "metadata": {},
          "execution_count": 19
        }
      ]
    },
    {
      "cell_type": "code",
      "source": [
        "coef_num= logistic_clf.coef_"
      ],
      "metadata": {
        "id": "zcyy-s8mL-5b"
      },
      "id": "zcyy-s8mL-5b",
      "execution_count": 20,
      "outputs": []
    },
    {
      "cell_type": "code",
      "source": [
        "coef_num"
      ],
      "metadata": {
        "colab": {
          "base_uri": "https://localhost:8080/"
        },
        "id": "cUuNHmwpXc6W",
        "outputId": "c8ef03b1-0bb9-4ef8-921a-a97b4d8b0746"
      },
      "id": "cUuNHmwpXc6W",
      "execution_count": 21,
      "outputs": [
        {
          "output_type": "execute_result",
          "data": {
            "text/plain": [
              "array([[-3.24989504e-01,  4.94098360e-01, -8.79477985e-01,\n",
              "         5.10455312e-01,  4.32466704e-01,  3.21970694e-01,\n",
              "        -3.81354691e-01, -3.48586586e-01,  1.67883595e-01,\n",
              "         3.51106290e-01,  2.84236053e-01,  6.28202629e-01,\n",
              "        -2.62854149e-01, -6.51739117e-02, -1.21310874e+00,\n",
              "        -2.70392753e-01, -2.47286331e-01,  4.83554203e-01,\n",
              "         2.13772573e-01, -2.57239974e-02, -2.41051167e-03,\n",
              "        -1.28576567e-01,  4.99107267e-01, -2.73625771e-01],\n",
              "       [ 3.37058797e-01, -3.37703646e-01, -2.42458383e-01,\n",
              "         7.64951345e-01, -2.42422555e-01,  2.83173888e-01,\n",
              "         8.06929821e-02,  4.88392861e-01, -2.20278830e-01,\n",
              "         5.96320682e-03, -3.50973241e-01, -9.21657219e-04,\n",
              "        -9.61736044e-02,  5.10929198e-02, -3.03102160e-01,\n",
              "         2.96268361e-01,  2.63685197e-01, -1.38267412e-01,\n",
              "         5.70513805e-01,  5.04211683e-01, -3.53958562e-01,\n",
              "         8.72431630e-01, -5.46435455e-01,  1.51258970e-01],\n",
              "       [-1.20692926e-02, -1.56394714e-01,  1.12193637e+00,\n",
              "        -1.27540666e+00, -1.90044149e-01, -6.05144582e-01,\n",
              "         3.00661709e-01, -1.39806275e-01,  5.23952355e-02,\n",
              "        -3.57069497e-01,  6.67371880e-02, -6.27280971e-01,\n",
              "         3.59027753e-01,  1.40809920e-02,  1.51621090e+00,\n",
              "        -2.58756084e-02, -1.63988668e-02, -3.45286791e-01,\n",
              "        -7.84286378e-01, -4.78487686e-01,  3.56369074e-01,\n",
              "        -7.43855063e-01,  4.73281874e-02,  1.22366801e-01]])"
            ]
          },
          "metadata": {},
          "execution_count": 21
        }
      ]
    },
    {
      "cell_type": "code",
      "source": [
        "intercipt= logistic_clf.intercept_"
      ],
      "metadata": {
        "id": "DPKrNEVEh8-v"
      },
      "id": "DPKrNEVEh8-v",
      "execution_count": 22,
      "outputs": []
    },
    {
      "cell_type": "code",
      "source": [
        "intercipt"
      ],
      "metadata": {
        "colab": {
          "base_uri": "https://localhost:8080/"
        },
        "id": "9cY5YLSuhxRu",
        "outputId": "ad3db2d2-aa98-4f72-a1f6-f48da7265d07"
      },
      "id": "9cY5YLSuhxRu",
      "execution_count": 23,
      "outputs": [
        {
          "output_type": "execute_result",
          "data": {
            "text/plain": [
              "array([ 3.66784946, -2.93963134, -0.72821812])"
            ]
          },
          "metadata": {},
          "execution_count": 23
        }
      ]
    },
    {
      "cell_type": "code",
      "execution_count": 24,
      "id": "6ae70db6",
      "metadata": {
        "colab": {
          "base_uri": "https://localhost:8080/"
        },
        "id": "6ae70db6",
        "outputId": "ce5bd503-945a-4817-ec36-445c308f3a5b"
      },
      "outputs": [
        {
          "output_type": "execute_result",
          "data": {
            "text/plain": [
              "0.9625"
            ]
          },
          "metadata": {},
          "execution_count": 24
        }
      ],
      "source": [
        "kn_clf=KNeighborsClassifier(n_neighbors=1)\n",
        "kn_clf.fit(X_train,Y_train)\n",
        "y1= kn_clf.predict(X_test)\n",
        "acc3=accuracy_score(Y_test,y1)\n",
        "acc3"
      ]
    },
    {
      "cell_type": "code",
      "execution_count": 25,
      "id": "bf5c53ba",
      "metadata": {
        "colab": {
          "base_uri": "https://localhost:8080/"
        },
        "id": "bf5c53ba",
        "outputId": "5f43d5b2-0530-43fa-f661-879e44df17aa"
      },
      "outputs": [
        {
          "output_type": "execute_result",
          "data": {
            "text/plain": [
              "1.0"
            ]
          },
          "metadata": {},
          "execution_count": 25
        }
      ],
      "source": [
        "dtree_clf= tree.DecisionTreeClassifier()\n",
        "dtree_clf.fit(X_train, Y_train)\n",
        "y2= dtree_clf.predict(X_test)\n",
        "acc4=accuracy_score(Y_test,y2)\n",
        "acc4"
      ]
    },
    {
      "cell_type": "code",
      "source": [
        "model= keras.Sequential()\n",
        "hidden_layer_sizes= coef_num.shape[1:]\n",
        "model.add(keras.layers.Dense(units=hidden_layer_sizes[0],activation='relu',input_shape=(X_train.shape[1],)))\n",
        "for layer_size in hidden_layer_sizes[1:]:\n",
        "  model.add(keras.layers.Dense(units=layer_size,activation='relu'))\n",
        "\n",
        "model.add(keras.layers.Dense(units=coef_num[-1].shape[0],activation='softmax'))\n",
        "\n",
        "model.summary()"
      ],
      "metadata": {
        "colab": {
          "base_uri": "https://localhost:8080/"
        },
        "id": "UMdKSixUM6Ao",
        "outputId": "16331621-f423-4cb6-b5b6-0ff251605ca1"
      },
      "id": "UMdKSixUM6Ao",
      "execution_count": 26,
      "outputs": [
        {
          "output_type": "stream",
          "name": "stdout",
          "text": [
            "Model: \"sequential\"\n",
            "_________________________________________________________________\n",
            " Layer (type)                Output Shape              Param #   \n",
            "=================================================================\n",
            " dense (Dense)               (None, 24)                600       \n",
            "                                                                 \n",
            " dense_1 (Dense)             (None, 24)                600       \n",
            "                                                                 \n",
            "=================================================================\n",
            "Total params: 1,200\n",
            "Trainable params: 1,200\n",
            "Non-trainable params: 0\n",
            "_________________________________________________________________\n"
          ]
        }
      ]
    },
    {
      "cell_type": "code",
      "source": [
        "model.compile(optimizer='adam', loss='sparse_categorical_crossentropy',metrics=['accuracy'])\n",
        "model.fit(X_train , Y_train, epochs=200, batch_size=173)\n"
      ],
      "metadata": {
        "colab": {
          "base_uri": "https://localhost:8080/"
        },
        "id": "SDe7evpno2Aw",
        "outputId": "4373ee91-42c4-4478-e5ac-6a5aad528a66"
      },
      "id": "SDe7evpno2Aw",
      "execution_count": 28,
      "outputs": [
        {
          "output_type": "stream",
          "name": "stdout",
          "text": [
            "Epoch 1/200\n",
            "2/2 [==============================] - 1s 10ms/step - loss: 0.3340 - accuracy: 0.9594\n",
            "Epoch 2/200\n",
            "2/2 [==============================] - 0s 7ms/step - loss: 0.3207 - accuracy: 0.9594\n",
            "Epoch 3/200\n",
            "2/2 [==============================] - 0s 9ms/step - loss: 0.3078 - accuracy: 0.9594\n",
            "Epoch 4/200\n",
            "2/2 [==============================] - 0s 8ms/step - loss: 0.2955 - accuracy: 0.9594\n",
            "Epoch 5/200\n",
            "2/2 [==============================] - 0s 8ms/step - loss: 0.2837 - accuracy: 0.9656\n",
            "Epoch 6/200\n",
            "2/2 [==============================] - 0s 7ms/step - loss: 0.2728 - accuracy: 0.9656\n",
            "Epoch 7/200\n",
            "2/2 [==============================] - 0s 8ms/step - loss: 0.2624 - accuracy: 0.9656\n",
            "Epoch 8/200\n",
            "2/2 [==============================] - 0s 12ms/step - loss: 0.2520 - accuracy: 0.9656\n",
            "Epoch 9/200\n",
            "2/2 [==============================] - 0s 9ms/step - loss: 0.2427 - accuracy: 0.9656\n",
            "Epoch 10/200\n",
            "2/2 [==============================] - 0s 9ms/step - loss: 0.2336 - accuracy: 0.9688\n",
            "Epoch 11/200\n",
            "2/2 [==============================] - 0s 11ms/step - loss: 0.2250 - accuracy: 0.9688\n",
            "Epoch 12/200\n",
            "2/2 [==============================] - 0s 11ms/step - loss: 0.2173 - accuracy: 0.9688\n",
            "Epoch 13/200\n",
            "2/2 [==============================] - 0s 13ms/step - loss: 0.2095 - accuracy: 0.9688\n",
            "Epoch 14/200\n",
            "2/2 [==============================] - 0s 6ms/step - loss: 0.2018 - accuracy: 0.9688\n",
            "Epoch 15/200\n",
            "2/2 [==============================] - 0s 13ms/step - loss: 0.1951 - accuracy: 0.9719\n",
            "Epoch 16/200\n",
            "2/2 [==============================] - 0s 6ms/step - loss: 0.1885 - accuracy: 0.9750\n",
            "Epoch 17/200\n",
            "2/2 [==============================] - 0s 24ms/step - loss: 0.1822 - accuracy: 0.9812\n",
            "Epoch 18/200\n",
            "2/2 [==============================] - 0s 15ms/step - loss: 0.1761 - accuracy: 0.9812\n",
            "Epoch 19/200\n",
            "2/2 [==============================] - 0s 9ms/step - loss: 0.1708 - accuracy: 0.9844\n",
            "Epoch 20/200\n",
            "2/2 [==============================] - 0s 15ms/step - loss: 0.1655 - accuracy: 0.9844\n",
            "Epoch 21/200\n",
            "2/2 [==============================] - 0s 48ms/step - loss: 0.1602 - accuracy: 0.9844\n",
            "Epoch 22/200\n",
            "2/2 [==============================] - 0s 12ms/step - loss: 0.1555 - accuracy: 0.9844\n",
            "Epoch 23/200\n",
            "2/2 [==============================] - 0s 8ms/step - loss: 0.1509 - accuracy: 0.9844\n",
            "Epoch 24/200\n",
            "2/2 [==============================] - 0s 18ms/step - loss: 0.1465 - accuracy: 0.9844\n",
            "Epoch 25/200\n",
            "2/2 [==============================] - 0s 9ms/step - loss: 0.1425 - accuracy: 0.9875\n",
            "Epoch 26/200\n",
            "2/2 [==============================] - 0s 11ms/step - loss: 0.1386 - accuracy: 0.9875\n",
            "Epoch 27/200\n",
            "2/2 [==============================] - 0s 11ms/step - loss: 0.1347 - accuracy: 0.9875\n",
            "Epoch 28/200\n",
            "2/2 [==============================] - 0s 10ms/step - loss: 0.1311 - accuracy: 0.9875\n",
            "Epoch 29/200\n",
            "2/2 [==============================] - 0s 12ms/step - loss: 0.1279 - accuracy: 0.9875\n",
            "Epoch 30/200\n",
            "2/2 [==============================] - 0s 9ms/step - loss: 0.1247 - accuracy: 0.9875\n",
            "Epoch 31/200\n",
            "2/2 [==============================] - 0s 16ms/step - loss: 0.1216 - accuracy: 0.9875\n",
            "Epoch 32/200\n",
            "2/2 [==============================] - 0s 16ms/step - loss: 0.1187 - accuracy: 0.9875\n",
            "Epoch 33/200\n",
            "2/2 [==============================] - 0s 10ms/step - loss: 0.1160 - accuracy: 0.9875\n",
            "Epoch 34/200\n",
            "2/2 [==============================] - 0s 13ms/step - loss: 0.1131 - accuracy: 0.9875\n",
            "Epoch 35/200\n",
            "2/2 [==============================] - 0s 13ms/step - loss: 0.1106 - accuracy: 0.9875\n",
            "Epoch 36/200\n",
            "2/2 [==============================] - 0s 10ms/step - loss: 0.1082 - accuracy: 0.9875\n",
            "Epoch 37/200\n",
            "2/2 [==============================] - 0s 8ms/step - loss: 0.1059 - accuracy: 0.9875\n",
            "Epoch 38/200\n",
            "2/2 [==============================] - 0s 13ms/step - loss: 0.1036 - accuracy: 0.9875\n",
            "Epoch 39/200\n",
            "2/2 [==============================] - 0s 7ms/step - loss: 0.1015 - accuracy: 0.9875\n",
            "Epoch 40/200\n",
            "2/2 [==============================] - 0s 7ms/step - loss: 0.0994 - accuracy: 0.9875\n",
            "Epoch 41/200\n",
            "2/2 [==============================] - 0s 8ms/step - loss: 0.0975 - accuracy: 0.9875\n",
            "Epoch 42/200\n",
            "2/2 [==============================] - 0s 8ms/step - loss: 0.0955 - accuracy: 0.9875\n",
            "Epoch 43/200\n",
            "2/2 [==============================] - 0s 7ms/step - loss: 0.0937 - accuracy: 0.9906\n",
            "Epoch 44/200\n",
            "2/2 [==============================] - 0s 29ms/step - loss: 0.0920 - accuracy: 0.9906\n",
            "Epoch 45/200\n",
            "2/2 [==============================] - 0s 11ms/step - loss: 0.0903 - accuracy: 0.9906\n",
            "Epoch 46/200\n",
            "2/2 [==============================] - 0s 16ms/step - loss: 0.0888 - accuracy: 0.9906\n",
            "Epoch 47/200\n",
            "2/2 [==============================] - 0s 7ms/step - loss: 0.0871 - accuracy: 0.9937\n",
            "Epoch 48/200\n",
            "2/2 [==============================] - 0s 7ms/step - loss: 0.0856 - accuracy: 0.9937\n",
            "Epoch 49/200\n",
            "2/2 [==============================] - 0s 7ms/step - loss: 0.0841 - accuracy: 0.9937\n",
            "Epoch 50/200\n",
            "2/2 [==============================] - 0s 8ms/step - loss: 0.0828 - accuracy: 0.9937\n",
            "Epoch 51/200\n",
            "2/2 [==============================] - 0s 7ms/step - loss: 0.0814 - accuracy: 0.9937\n",
            "Epoch 52/200\n",
            "2/2 [==============================] - 0s 7ms/step - loss: 0.0802 - accuracy: 0.9937\n",
            "Epoch 53/200\n",
            "2/2 [==============================] - 0s 7ms/step - loss: 0.0789 - accuracy: 0.9937\n",
            "Epoch 54/200\n",
            "2/2 [==============================] - 0s 7ms/step - loss: 0.0776 - accuracy: 0.9937\n",
            "Epoch 55/200\n",
            "2/2 [==============================] - 0s 12ms/step - loss: 0.0765 - accuracy: 0.9937\n",
            "Epoch 56/200\n",
            "2/2 [==============================] - 0s 11ms/step - loss: 0.0753 - accuracy: 0.9937\n",
            "Epoch 57/200\n",
            "2/2 [==============================] - 0s 7ms/step - loss: 0.0742 - accuracy: 0.9937\n",
            "Epoch 58/200\n",
            "2/2 [==============================] - 0s 8ms/step - loss: 0.0732 - accuracy: 0.9937\n",
            "Epoch 59/200\n",
            "2/2 [==============================] - 0s 17ms/step - loss: 0.0721 - accuracy: 0.9937\n",
            "Epoch 60/200\n",
            "2/2 [==============================] - 0s 8ms/step - loss: 0.0711 - accuracy: 0.9937\n",
            "Epoch 61/200\n",
            "2/2 [==============================] - 0s 7ms/step - loss: 0.0701 - accuracy: 0.9937\n",
            "Epoch 62/200\n",
            "2/2 [==============================] - 0s 8ms/step - loss: 0.0692 - accuracy: 0.9937\n",
            "Epoch 63/200\n",
            "2/2 [==============================] - 0s 7ms/step - loss: 0.0681 - accuracy: 0.9937\n",
            "Epoch 64/200\n",
            "2/2 [==============================] - 0s 7ms/step - loss: 0.0673 - accuracy: 0.9937\n",
            "Epoch 65/200\n",
            "2/2 [==============================] - 0s 16ms/step - loss: 0.0664 - accuracy: 0.9937\n",
            "Epoch 66/200\n",
            "2/2 [==============================] - 0s 8ms/step - loss: 0.0656 - accuracy: 0.9937\n",
            "Epoch 67/200\n",
            "2/2 [==============================] - 0s 11ms/step - loss: 0.0647 - accuracy: 0.9937\n",
            "Epoch 68/200\n",
            "2/2 [==============================] - 0s 13ms/step - loss: 0.0639 - accuracy: 0.9937\n",
            "Epoch 69/200\n",
            "2/2 [==============================] - 0s 20ms/step - loss: 0.0631 - accuracy: 0.9937\n",
            "Epoch 70/200\n",
            "2/2 [==============================] - 0s 18ms/step - loss: 0.0622 - accuracy: 0.9937\n",
            "Epoch 71/200\n",
            "2/2 [==============================] - 0s 23ms/step - loss: 0.0614 - accuracy: 0.9937\n",
            "Epoch 72/200\n",
            "2/2 [==============================] - 0s 21ms/step - loss: 0.0608 - accuracy: 0.9937\n",
            "Epoch 73/200\n",
            "2/2 [==============================] - 0s 22ms/step - loss: 0.0599 - accuracy: 0.9937\n",
            "Epoch 74/200\n",
            "2/2 [==============================] - 0s 23ms/step - loss: 0.0593 - accuracy: 0.9937\n",
            "Epoch 75/200\n",
            "2/2 [==============================] - 0s 21ms/step - loss: 0.0586 - accuracy: 0.9937\n",
            "Epoch 76/200\n",
            "2/2 [==============================] - 0s 12ms/step - loss: 0.0578 - accuracy: 0.9937\n",
            "Epoch 77/200\n",
            "2/2 [==============================] - 0s 14ms/step - loss: 0.0572 - accuracy: 0.9937\n",
            "Epoch 78/200\n",
            "2/2 [==============================] - 0s 16ms/step - loss: 0.0565 - accuracy: 0.9937\n",
            "Epoch 79/200\n",
            "2/2 [==============================] - 0s 11ms/step - loss: 0.0559 - accuracy: 0.9937\n",
            "Epoch 80/200\n",
            "2/2 [==============================] - 0s 12ms/step - loss: 0.0552 - accuracy: 0.9937\n",
            "Epoch 81/200\n",
            "2/2 [==============================] - 0s 15ms/step - loss: 0.0546 - accuracy: 0.9937\n",
            "Epoch 82/200\n",
            "2/2 [==============================] - 0s 26ms/step - loss: 0.0540 - accuracy: 0.9937\n",
            "Epoch 83/200\n",
            "2/2 [==============================] - 0s 20ms/step - loss: 0.0533 - accuracy: 0.9937\n",
            "Epoch 84/200\n",
            "2/2 [==============================] - 0s 23ms/step - loss: 0.0527 - accuracy: 0.9937\n",
            "Epoch 85/200\n",
            "2/2 [==============================] - 0s 18ms/step - loss: 0.0522 - accuracy: 0.9937\n",
            "Epoch 86/200\n",
            "2/2 [==============================] - 0s 15ms/step - loss: 0.0516 - accuracy: 0.9937\n",
            "Epoch 87/200\n",
            "2/2 [==============================] - 0s 12ms/step - loss: 0.0510 - accuracy: 0.9937\n",
            "Epoch 88/200\n",
            "2/2 [==============================] - 0s 11ms/step - loss: 0.0504 - accuracy: 0.9937\n",
            "Epoch 89/200\n",
            "2/2 [==============================] - 0s 12ms/step - loss: 0.0499 - accuracy: 0.9937\n",
            "Epoch 90/200\n",
            "2/2 [==============================] - 0s 14ms/step - loss: 0.0493 - accuracy: 0.9937\n",
            "Epoch 91/200\n",
            "2/2 [==============================] - 0s 13ms/step - loss: 0.0488 - accuracy: 0.9937\n",
            "Epoch 92/200\n",
            "2/2 [==============================] - 0s 13ms/step - loss: 0.0482 - accuracy: 0.9937\n",
            "Epoch 93/200\n",
            "2/2 [==============================] - 0s 14ms/step - loss: 0.0477 - accuracy: 0.9937\n",
            "Epoch 94/200\n",
            "2/2 [==============================] - 0s 21ms/step - loss: 0.0472 - accuracy: 0.9937\n",
            "Epoch 95/200\n",
            "2/2 [==============================] - 0s 24ms/step - loss: 0.0466 - accuracy: 0.9937\n",
            "Epoch 96/200\n",
            "2/2 [==============================] - 0s 14ms/step - loss: 0.0462 - accuracy: 0.9937\n",
            "Epoch 97/200\n",
            "2/2 [==============================] - 0s 13ms/step - loss: 0.0457 - accuracy: 0.9937\n",
            "Epoch 98/200\n",
            "2/2 [==============================] - 0s 13ms/step - loss: 0.0452 - accuracy: 0.9937\n",
            "Epoch 99/200\n",
            "2/2 [==============================] - 0s 10ms/step - loss: 0.0446 - accuracy: 0.9937\n",
            "Epoch 100/200\n",
            "2/2 [==============================] - 0s 19ms/step - loss: 0.0442 - accuracy: 0.9937\n",
            "Epoch 101/200\n",
            "2/2 [==============================] - 0s 16ms/step - loss: 0.0437 - accuracy: 0.9937\n",
            "Epoch 102/200\n",
            "2/2 [==============================] - 0s 7ms/step - loss: 0.0432 - accuracy: 0.9937\n",
            "Epoch 103/200\n",
            "2/2 [==============================] - 0s 11ms/step - loss: 0.0427 - accuracy: 0.9937\n",
            "Epoch 104/200\n",
            "2/2 [==============================] - 0s 26ms/step - loss: 0.0424 - accuracy: 0.9937\n",
            "Epoch 105/200\n",
            "2/2 [==============================] - 0s 11ms/step - loss: 0.0418 - accuracy: 0.9937\n",
            "Epoch 106/200\n",
            "2/2 [==============================] - 0s 8ms/step - loss: 0.0414 - accuracy: 0.9937\n",
            "Epoch 107/200\n",
            "2/2 [==============================] - 0s 8ms/step - loss: 0.0410 - accuracy: 0.9937\n",
            "Epoch 108/200\n",
            "2/2 [==============================] - 0s 11ms/step - loss: 0.0405 - accuracy: 0.9937\n",
            "Epoch 109/200\n",
            "2/2 [==============================] - 0s 18ms/step - loss: 0.0401 - accuracy: 0.9937\n",
            "Epoch 110/200\n",
            "2/2 [==============================] - 0s 23ms/step - loss: 0.0396 - accuracy: 0.9937\n",
            "Epoch 111/200\n",
            "2/2 [==============================] - 0s 16ms/step - loss: 0.0391 - accuracy: 0.9937\n",
            "Epoch 112/200\n",
            "2/2 [==============================] - 0s 8ms/step - loss: 0.0387 - accuracy: 0.9937\n",
            "Epoch 113/200\n",
            "2/2 [==============================] - 0s 20ms/step - loss: 0.0383 - accuracy: 0.9937\n",
            "Epoch 114/200\n",
            "2/2 [==============================] - 0s 16ms/step - loss: 0.0379 - accuracy: 0.9937\n",
            "Epoch 115/200\n",
            "2/2 [==============================] - 0s 19ms/step - loss: 0.0374 - accuracy: 0.9937\n",
            "Epoch 116/200\n",
            "2/2 [==============================] - 0s 8ms/step - loss: 0.0370 - accuracy: 0.9937\n",
            "Epoch 117/200\n",
            "2/2 [==============================] - 0s 18ms/step - loss: 0.0366 - accuracy: 0.9937\n",
            "Epoch 118/200\n",
            "2/2 [==============================] - 0s 17ms/step - loss: 0.0362 - accuracy: 0.9937\n",
            "Epoch 119/200\n",
            "2/2 [==============================] - 0s 13ms/step - loss: 0.0358 - accuracy: 0.9937\n",
            "Epoch 120/200\n",
            "2/2 [==============================] - 0s 34ms/step - loss: 0.0354 - accuracy: 0.9937\n",
            "Epoch 121/200\n",
            "2/2 [==============================] - 0s 26ms/step - loss: 0.0349 - accuracy: 0.9937\n",
            "Epoch 122/200\n",
            "2/2 [==============================] - 0s 10ms/step - loss: 0.0345 - accuracy: 0.9937\n",
            "Epoch 123/200\n",
            "2/2 [==============================] - 0s 18ms/step - loss: 0.0341 - accuracy: 0.9937\n",
            "Epoch 124/200\n",
            "2/2 [==============================] - 0s 44ms/step - loss: 0.0337 - accuracy: 0.9937\n",
            "Epoch 125/200\n",
            "2/2 [==============================] - 0s 13ms/step - loss: 0.0333 - accuracy: 0.9937\n",
            "Epoch 126/200\n",
            "2/2 [==============================] - 0s 21ms/step - loss: 0.0329 - accuracy: 0.9937\n",
            "Epoch 127/200\n",
            "2/2 [==============================] - 0s 10ms/step - loss: 0.0325 - accuracy: 0.9937\n",
            "Epoch 128/200\n",
            "2/2 [==============================] - 0s 13ms/step - loss: 0.0322 - accuracy: 0.9937\n",
            "Epoch 129/200\n",
            "2/2 [==============================] - 0s 8ms/step - loss: 0.0319 - accuracy: 0.9937\n",
            "Epoch 130/200\n",
            "2/2 [==============================] - 0s 11ms/step - loss: 0.0315 - accuracy: 0.9937\n",
            "Epoch 131/200\n",
            "2/2 [==============================] - 0s 16ms/step - loss: 0.0310 - accuracy: 0.9937\n",
            "Epoch 132/200\n",
            "2/2 [==============================] - 0s 12ms/step - loss: 0.0307 - accuracy: 0.9937\n",
            "Epoch 133/200\n",
            "2/2 [==============================] - 0s 12ms/step - loss: 0.0304 - accuracy: 0.9937\n",
            "Epoch 134/200\n",
            "2/2 [==============================] - 0s 13ms/step - loss: 0.0300 - accuracy: 0.9937\n",
            "Epoch 135/200\n",
            "2/2 [==============================] - 0s 12ms/step - loss: 0.0296 - accuracy: 0.9937\n",
            "Epoch 136/200\n",
            "2/2 [==============================] - 0s 24ms/step - loss: 0.0293 - accuracy: 0.9937\n",
            "Epoch 137/200\n",
            "2/2 [==============================] - 0s 14ms/step - loss: 0.0289 - accuracy: 0.9937\n",
            "Epoch 138/200\n",
            "2/2 [==============================] - 0s 11ms/step - loss: 0.0285 - accuracy: 0.9937\n",
            "Epoch 139/200\n",
            "2/2 [==============================] - 0s 11ms/step - loss: 0.0282 - accuracy: 0.9937\n",
            "Epoch 140/200\n",
            "2/2 [==============================] - 0s 12ms/step - loss: 0.0279 - accuracy: 0.9937\n",
            "Epoch 141/200\n",
            "2/2 [==============================] - 0s 11ms/step - loss: 0.0276 - accuracy: 0.9937\n",
            "Epoch 142/200\n",
            "2/2 [==============================] - 0s 10ms/step - loss: 0.0273 - accuracy: 0.9937\n",
            "Epoch 143/200\n",
            "2/2 [==============================] - 0s 14ms/step - loss: 0.0270 - accuracy: 0.9937\n",
            "Epoch 144/200\n",
            "2/2 [==============================] - 0s 10ms/step - loss: 0.0267 - accuracy: 0.9937\n",
            "Epoch 145/200\n",
            "2/2 [==============================] - 0s 6ms/step - loss: 0.0264 - accuracy: 0.9937\n",
            "Epoch 146/200\n",
            "2/2 [==============================] - 0s 10ms/step - loss: 0.0261 - accuracy: 0.9937\n",
            "Epoch 147/200\n",
            "2/2 [==============================] - 0s 7ms/step - loss: 0.0258 - accuracy: 0.9937\n",
            "Epoch 148/200\n",
            "2/2 [==============================] - 0s 7ms/step - loss: 0.0255 - accuracy: 0.9937\n",
            "Epoch 149/200\n",
            "2/2 [==============================] - 0s 6ms/step - loss: 0.0252 - accuracy: 0.9937\n",
            "Epoch 150/200\n",
            "2/2 [==============================] - 0s 9ms/step - loss: 0.0249 - accuracy: 0.9937\n",
            "Epoch 151/200\n",
            "2/2 [==============================] - 0s 12ms/step - loss: 0.0246 - accuracy: 0.9937\n",
            "Epoch 152/200\n",
            "2/2 [==============================] - 0s 8ms/step - loss: 0.0243 - accuracy: 0.9937\n",
            "Epoch 153/200\n",
            "2/2 [==============================] - 0s 22ms/step - loss: 0.0241 - accuracy: 0.9937\n",
            "Epoch 154/200\n",
            "2/2 [==============================] - 0s 31ms/step - loss: 0.0238 - accuracy: 0.9937\n",
            "Epoch 155/200\n",
            "2/2 [==============================] - 0s 15ms/step - loss: 0.0235 - accuracy: 0.9937\n",
            "Epoch 156/200\n",
            "2/2 [==============================] - 0s 17ms/step - loss: 0.0233 - accuracy: 0.9937\n",
            "Epoch 157/200\n",
            "2/2 [==============================] - 0s 7ms/step - loss: 0.0230 - accuracy: 0.9937\n",
            "Epoch 158/200\n",
            "2/2 [==============================] - 0s 6ms/step - loss: 0.0227 - accuracy: 0.9937\n",
            "Epoch 159/200\n",
            "2/2 [==============================] - 0s 7ms/step - loss: 0.0225 - accuracy: 0.9937\n",
            "Epoch 160/200\n",
            "2/2 [==============================] - 0s 7ms/step - loss: 0.0222 - accuracy: 0.9937\n",
            "Epoch 161/200\n",
            "2/2 [==============================] - 0s 12ms/step - loss: 0.0220 - accuracy: 0.9937\n",
            "Epoch 162/200\n",
            "2/2 [==============================] - 0s 10ms/step - loss: 0.0217 - accuracy: 0.9937\n",
            "Epoch 163/200\n",
            "2/2 [==============================] - 0s 12ms/step - loss: 0.0215 - accuracy: 0.9937\n",
            "Epoch 164/200\n",
            "2/2 [==============================] - 0s 26ms/step - loss: 0.0213 - accuracy: 0.9937\n",
            "Epoch 165/200\n",
            "2/2 [==============================] - 0s 11ms/step - loss: 0.0211 - accuracy: 0.9937\n",
            "Epoch 166/200\n",
            "2/2 [==============================] - 0s 14ms/step - loss: 0.0208 - accuracy: 0.9937\n",
            "Epoch 167/200\n",
            "2/2 [==============================] - 0s 10ms/step - loss: 0.0206 - accuracy: 0.9937\n",
            "Epoch 168/200\n",
            "2/2 [==============================] - 0s 7ms/step - loss: 0.0204 - accuracy: 0.9937\n",
            "Epoch 169/200\n",
            "2/2 [==============================] - 0s 6ms/step - loss: 0.0201 - accuracy: 0.9937\n",
            "Epoch 170/200\n",
            "2/2 [==============================] - 0s 8ms/step - loss: 0.0199 - accuracy: 0.9937\n",
            "Epoch 171/200\n",
            "2/2 [==============================] - 0s 6ms/step - loss: 0.0197 - accuracy: 0.9937\n",
            "Epoch 172/200\n",
            "2/2 [==============================] - 0s 9ms/step - loss: 0.0195 - accuracy: 0.9937\n",
            "Epoch 173/200\n",
            "2/2 [==============================] - 0s 8ms/step - loss: 0.0193 - accuracy: 0.9937\n",
            "Epoch 174/200\n",
            "2/2 [==============================] - 0s 9ms/step - loss: 0.0191 - accuracy: 0.9937\n",
            "Epoch 175/200\n",
            "2/2 [==============================] - 0s 8ms/step - loss: 0.0189 - accuracy: 0.9937\n",
            "Epoch 176/200\n",
            "2/2 [==============================] - 0s 6ms/step - loss: 0.0187 - accuracy: 0.9937\n",
            "Epoch 177/200\n",
            "2/2 [==============================] - 0s 6ms/step - loss: 0.0185 - accuracy: 0.9937\n",
            "Epoch 178/200\n",
            "2/2 [==============================] - 0s 13ms/step - loss: 0.0183 - accuracy: 0.9937\n",
            "Epoch 179/200\n",
            "2/2 [==============================] - 0s 10ms/step - loss: 0.0181 - accuracy: 0.9937\n",
            "Epoch 180/200\n",
            "2/2 [==============================] - 0s 7ms/step - loss: 0.0179 - accuracy: 0.9937\n",
            "Epoch 181/200\n",
            "2/2 [==============================] - 0s 8ms/step - loss: 0.0177 - accuracy: 0.9937\n",
            "Epoch 182/200\n",
            "2/2 [==============================] - 0s 5ms/step - loss: 0.0175 - accuracy: 0.9937\n",
            "Epoch 183/200\n",
            "2/2 [==============================] - 0s 6ms/step - loss: 0.0173 - accuracy: 0.9937\n",
            "Epoch 184/200\n",
            "2/2 [==============================] - 0s 6ms/step - loss: 0.0171 - accuracy: 0.9937\n",
            "Epoch 185/200\n",
            "2/2 [==============================] - 0s 13ms/step - loss: 0.0169 - accuracy: 0.9937\n",
            "Epoch 186/200\n",
            "2/2 [==============================] - 0s 13ms/step - loss: 0.0168 - accuracy: 0.9937\n",
            "Epoch 187/200\n",
            "2/2 [==============================] - 0s 7ms/step - loss: 0.0166 - accuracy: 0.9937\n",
            "Epoch 188/200\n",
            "2/2 [==============================] - 0s 13ms/step - loss: 0.0164 - accuracy: 0.9937\n",
            "Epoch 189/200\n",
            "2/2 [==============================] - 0s 12ms/step - loss: 0.0162 - accuracy: 0.9937\n",
            "Epoch 190/200\n",
            "2/2 [==============================] - 0s 12ms/step - loss: 0.0161 - accuracy: 0.9969\n",
            "Epoch 191/200\n",
            "2/2 [==============================] - 0s 12ms/step - loss: 0.0159 - accuracy: 0.9969\n",
            "Epoch 192/200\n",
            "2/2 [==============================] - 0s 12ms/step - loss: 0.0157 - accuracy: 0.9969\n",
            "Epoch 193/200\n",
            "2/2 [==============================] - 0s 14ms/step - loss: 0.0156 - accuracy: 0.9969\n",
            "Epoch 194/200\n",
            "2/2 [==============================] - 0s 15ms/step - loss: 0.0154 - accuracy: 0.9969\n",
            "Epoch 195/200\n",
            "2/2 [==============================] - 0s 13ms/step - loss: 0.0152 - accuracy: 0.9969\n",
            "Epoch 196/200\n",
            "2/2 [==============================] - 0s 10ms/step - loss: 0.0151 - accuracy: 0.9969\n",
            "Epoch 197/200\n",
            "2/2 [==============================] - 0s 14ms/step - loss: 0.0149 - accuracy: 0.9969\n",
            "Epoch 198/200\n",
            "2/2 [==============================] - 0s 8ms/step - loss: 0.0147 - accuracy: 0.9969\n",
            "Epoch 199/200\n",
            "2/2 [==============================] - 0s 12ms/step - loss: 0.0146 - accuracy: 0.9969\n",
            "Epoch 200/200\n",
            "2/2 [==============================] - 0s 11ms/step - loss: 0.0145 - accuracy: 0.9969\n"
          ]
        },
        {
          "output_type": "execute_result",
          "data": {
            "text/plain": [
              "<keras.callbacks.History at 0x7f6ae8343d90>"
            ]
          },
          "metadata": {},
          "execution_count": 28
        }
      ]
    },
    {
      "cell_type": "code",
      "source": [
        "# input >> 48,80,1.02,1,0,2,1,0,0,121,36,1.2,111,2.5,15.4,32,72,34,1,4,1,0,0,0\n",
        "print(\"Enter Values of Kidney:\")\n",
        "list = [[float(input()) for j in range(24)]]\n",
        "list = np.array(list)\n",
        "prediction = model.predict(list)\n",
        "prediction = prediction.all()\n",
        "if prediction == 0:\n",
        "  prediction = 0 #chronic\n",
        "else:\n",
        "  prediction = 1 #non_chronic\n",
        "print(prediction)"
      ],
      "metadata": {
        "colab": {
          "base_uri": "https://localhost:8080/"
        },
        "id": "335WQl5o4AzB",
        "outputId": "6bd807d9-1d67-4f01-e06f-0ec30380b778"
      },
      "id": "335WQl5o4AzB",
      "execution_count": 29,
      "outputs": [
        {
          "output_type": "stream",
          "name": "stdout",
          "text": [
            "Enter Values of Kidney:\n",
            "48\n",
            "80\n",
            "1.02\n",
            "1\n",
            "0\n",
            "2\n",
            "1\n",
            "0\n",
            "0\n",
            "121\n",
            "36\n",
            "1.2\n",
            "111\n",
            "2.5\n",
            "15.4\n",
            "32\n",
            "72\n",
            "34\n",
            "1\n",
            "4\n",
            "1\n",
            "0\n",
            "0\n",
            "0\n",
            "1/1 [==============================] - 0s 76ms/step\n",
            "0\n"
          ]
        }
      ]
    },
    {
      "cell_type": "code",
      "source": [
        "converter = tf.lite.TFLiteConverter.from_keras_model(model)\n",
        "##converter.experimental_new_converter = True\n",
        "\n",
        "tflite_model = converter.convert()\n",
        "\n",
        "with open('model.tflite_kidney', 'wb') as f:\n",
        "  f.write(tflite_model)\n",
        "\n"
      ],
      "metadata": {
        "id": "Dnp4Z0mpuwsL",
        "colab": {
          "base_uri": "https://localhost:8080/"
        },
        "outputId": "63ce68e3-91cf-4d03-de98-57bf2581602d"
      },
      "id": "Dnp4Z0mpuwsL",
      "execution_count": 30,
      "outputs": [
        {
          "output_type": "stream",
          "name": "stderr",
          "text": [
            "WARNING:absl:Found untraced functions such as _update_step_xla while saving (showing 1 of 1). These functions will not be directly callable after loading.\n"
          ]
        }
      ]
    }
  ],
  "metadata": {
    "kernelspec": {
      "display_name": "Python 3",
      "name": "python3"
    },
    "language_info": {
      "codemirror_mode": {
        "name": "ipython",
        "version": 3
      },
      "file_extension": ".py",
      "mimetype": "text/x-python",
      "name": "python",
      "nbconvert_exporter": "python",
      "pygments_lexer": "ipython3",
      "version": "3.9.13"
    },
    "colab": {
      "provenance": []
    }
  },
  "nbformat": 4,
  "nbformat_minor": 5
}